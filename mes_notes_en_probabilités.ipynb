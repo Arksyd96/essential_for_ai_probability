{
 "cells": [
  {
   "cell_type": "markdown",
   "source": [
    "# Les variables aléatoires\r\n",
    "## 1. Variables aléatoires discrètes :\r\n",
    "Une variable aléatoire discrète est une application $X$ de $\\Omega$ (Univers, contenant toutes les possibilités) dans $E$ tel que $X(\\Omega)$ soit fini ou dénombrable.\r\n",
    "- Notons : $X(\\Omega) = \\{x_n; n \\in I\\}$ où $I$ est fini ou dénombrable.\r\n",
    "- La loi de probabilité de $X$, soit $(P_n)_{n \\; \\in \\; I}$, est noté : $P_n =P(X=x_n)$.\r\n",
    "\r\n",
    "**Note**: Un ensemble dénombrable est un ensemble en bijection avec l'ensemble des entiers $\\mathbb{N}$ (équipotent).\r\n",
    "\r\n",
    "- La probabilité $P(y|x)$ est la probabilité conditionnelle de $y$ sachant $x$ (Probabilité d'un évenement sachant qu'un autre évenement a eu lieu), et est définit comme suit :\r\n",
    "$$ P(Y = y|X = x) = \\frac{P(X = x, Y = y)}{P(X = x)}$$\r\n",
    "où $P(X = x, Y = y)$ est l'application de la **loi conjointe** sur les variables $X$ et $Y$. \r\n",
    "- La loi conjointe entre deux variables $X$ et $Y$ est la loi qui définit toutes les probabilités du vecteur $(X, Y)$ dans un ensemble $\\mathbb{E}^2$, en d'autres termes, la probabilité de l'apparition de $X$ et $Y$ en même temps $P((X = x) \\cap (Y = y))$ (à ne pas confondre avec la probabilité conditionnelle) :\r\n",
    "$$ P_{X,Y}(I \\times J) = P(X \\in I \\; \\; et \\; \\; Y \\in J) $$  \r\n",
    "***Exemple***: Soit $E$ un évenement où on tire 2 valeurs dans l'univers $\\{-1, 1\\}^2$. $X$ est la somme des deux valeurs et $Y$ leur produit. On aura alors $X \\in \\{-2, 0, 2\\}$ et $Y \\in \\{-1, 1\\}$. Voici les valeurs possible de la loi conjointe entre $X$ et $Y$ :\r\n",
    "$$ P(X = -2, Y = -1) = 0, \\;\\;\\;\\; P(X = 0, Y = -1) = \\frac{1}{2}$$\r\n",
    "$$ P(X = 2, Y = -1) = 0, \\;\\;\\;\\; P(X = -2, Y = 1) = \\frac{1}{4}$$\r\n",
    "$$ P(X = 0, Y = 1) = 0, \\;\\;\\;\\; P(X = 2, Y = 1) = \\frac{1}{4}$$  \r\n",
    "**Note**: faites attention à l'ordre des variables dans la loi conjointe.  \r\n",
    "**Note**: Si $P(X = x, Y = y)$ est appellé loi conjointe, alors $P(X = x), P(Y = y)$ sont appellées **lois marginales**.  \r\n",
    "- Il possible de retrouver les lois marginales à partir de la loi conjointe en fixant la valeur d'une variable $X \\in \\{x_1, ..., x_p\\}$ ou $Y \\in \\{y_1, ..., y_q\\}$:\r\n",
    "$$ P(X = x_i) = \\sum_{j=1}^q P(X = x_i, Y = y_j) \\;\\; et \\;\\; P(Y = y_j) = \\sum_{i=1}^p P(X = x_i, Y = y_j)$$ \r\n",
    "- Cependant l'inverse n'est pas toujours correcte, il est possible de trouver la loi conjointe entre deux variables seulement si ces dérnières sont indépendentes, et dans ce cas là on aura :\r\n",
    "$$ P(X = x, Y = y) = P(X=x)P(Y=y)$$  \r\n",
    "Si les deux variables ne sont pas indépentes alors il faudra plus d'informations sur le rapport entre $X$ et $Y$ :\r\n",
    "$$ P(X = x, Y= y) = P(X = x)P(Y = y | X = x) \\;\\; (origine \\;\\; de \\;\\; la \\;\\; loi \\;\\; conditionnelle)$$\r\n",
    "\r\n",
    "**I. Espérence d'une variable aléatoire discrète:** notée $\\mathbb{E}[X]$, est la valeur moyenne qu'on s'attend à trouver pour la variable aléatoire $X$. La formule de l'espérence est définit comme suit :\r\n",
    "$$ \\mathbb{E}(X) = \\sum_{n \\in I} x_n P(X = x_n)$$\r\n",
    "**II. Variance d'une variable aléatoire discrète:** notée $V[X]$, la mesure de dispersion des valeurs de $X$. Elle est définit comme suit :\r\n",
    "$$ V[X] = \\mathbb{E}[(X - \\mathbb{E}[X])^2] = \\mathbb{E}[X^2] - \\mathbb{E}[X]^2$$\r\n",
    "- *Démonstration* de $V[X] \\implies$ :  \r\n",
    "$ = \\mathbb{E}[(X - \\mathbb{E}[X])^2] = \\mathbb{E}[X^2 - 2X\\mathbb{E}[X] + \\mathbb{E}[X]^2] $  \r\n",
    "$ = \\mathbb{E}[X^2] - 2\\mathbb{E}[X]\\mathbb{E}[X] + \\mathbb{E}[X] = \\mathbb{E}[X^2] - 2\\mathbb{E}[X]^2 + \\mathbb{E}[X]^2$  \r\n",
    "$ = \\mathbb{E}[X^2] - \\mathbb{E}[X]^2$   \r\n",
    "**Note** $\\mathbb{E}[\\mathbb{E}[X]] = \\mathbb{E}[X]$\r\n"
   ],
   "metadata": {}
  }
 ],
 "metadata": {
  "orig_nbformat": 4,
  "language_info": {
   "name": "python"
  }
 },
 "nbformat": 4,
 "nbformat_minor": 2
}